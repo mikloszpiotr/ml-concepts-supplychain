{
 "cells": [
  {
   "cell_type": "code",
   "execution_count": null,
   "id": "67d20a40-2efe-4dba-a668-95119a2b737f",
   "metadata": {},
   "outputs": [],
   "source": [
    "# Decision Forest (Random Forest): Parameters, How to Inspect, and How to Optimize\n",
    "**Context:** Supply Chain — Late Delivery Classification\n",
    "\n",
    "---\n",
    "\n",
    "## 1) Parameter Cheat-Sheet\n",
    "\n",
    "### Shared (Classifier & Regressor)\n",
    "- `n_estimators` (int, default=100): Number of trees.  \n",
    "- `criterion`: Split quality metric (see model-specific).  \n",
    "- `max_depth` (int or None): Max tree depth.  \n",
    "- `min_samples_split` (int/float, default=2): Min samples to split a node.  \n",
    "- `min_samples_leaf` (int/float, default=1): Min samples at a leaf.  \n",
    "- `min_weight_fraction_leaf` (float, default=0.0)  \n",
    "- `max_features` ({int, float, \"sqrt\", \"log2\", None})  \n",
    "- `max_leaf_nodes` (int or None)  \n",
    "- `min_impurity_decrease` (float, default=0.0)  \n",
    "- `bootstrap` (bool, default=True)  \n",
    "- `oob_score` (bool, default=False)  \n",
    "- `n_jobs` (int or None)  \n",
    "- `random_state` (int or None)  \n",
    "- `verbose` (int)  \n",
    "- `warm_start` (bool)  \n",
    "- `ccp_alpha` (float)  \n",
    "- `max_samples` (int, float or None)  \n",
    "\n",
    "### Classifier-only\n",
    "- `class_weight` ({\"balanced\", \"balanced_subsample\"} or dict or None)  \n",
    "- `criterion`: `\"gini\"`, `\"entropy\"`, `\"log_loss\"`\n",
    "\n",
    "### Regressor-only\n",
    "- `criterion`: `\"squared_error\"`, `\"absolute_error\"`, `\"friedman_mse\"`, `\"poisson\"`\n"
   ]
  },
  {
   "cell_type": "code",
   "execution_count": 1,
   "id": "5166fae0-24eb-4d05-ba7d-4a44fd500dd4",
   "metadata": {},
   "outputs": [],
   "source": [
    "# 2) Imports\n",
    "import numpy as np\n",
    "import pandas as pd\n",
    "from sklearn.model_selection import train_test_split, RandomizedSearchCV, GridSearchCV\n",
    "from sklearn.ensemble import RandomForestClassifier, RandomForestRegressor\n",
    "from sklearn.metrics import accuracy_score, classification_report, confusion_matrix\n",
    "from scipy.stats import randint\n",
    "import matplotlib.pyplot as plt\n",
    "import seaborn as sns\n",
    "np.random.seed(42)\n"
   ]
  },
  {
   "cell_type": "code",
   "execution_count": 3,
   "id": "2d6d4de4-9424-4579-8acb-2a73b2d230ba",
   "metadata": {},
   "outputs": [
    {
     "data": {
      "text/html": [
       "<div>\n",
       "<style scoped>\n",
       "    .dataframe tbody tr th:only-of-type {\n",
       "        vertical-align: middle;\n",
       "    }\n",
       "\n",
       "    .dataframe tbody tr th {\n",
       "        vertical-align: top;\n",
       "    }\n",
       "\n",
       "    .dataframe thead th {\n",
       "        text-align: right;\n",
       "    }\n",
       "</style>\n",
       "<table border=\"1\" class=\"dataframe\">\n",
       "  <thead>\n",
       "    <tr style=\"text-align: right;\">\n",
       "      <th></th>\n",
       "      <th>LeadTime_Days</th>\n",
       "      <th>Order_Size</th>\n",
       "      <th>Supplier_Reliability</th>\n",
       "      <th>Port_Congestion</th>\n",
       "      <th>Is_Promo</th>\n",
       "      <th>Distance_km</th>\n",
       "      <th>Hist_Delay_Rate</th>\n",
       "      <th>LateDelivery</th>\n",
       "    </tr>\n",
       "  </thead>\n",
       "  <tbody>\n",
       "    <tr>\n",
       "      <th>0</th>\n",
       "      <td>31</td>\n",
       "      <td>682</td>\n",
       "      <td>0.789537</td>\n",
       "      <td>0.496755</td>\n",
       "      <td>1</td>\n",
       "      <td>1855</td>\n",
       "      <td>0.108540</td>\n",
       "      <td>1</td>\n",
       "    </tr>\n",
       "    <tr>\n",
       "      <th>1</th>\n",
       "      <td>17</td>\n",
       "      <td>911</td>\n",
       "      <td>0.846905</td>\n",
       "      <td>0.352917</td>\n",
       "      <td>1</td>\n",
       "      <td>1019</td>\n",
       "      <td>0.219739</td>\n",
       "      <td>1</td>\n",
       "    </tr>\n",
       "    <tr>\n",
       "      <th>2</th>\n",
       "      <td>10</td>\n",
       "      <td>699</td>\n",
       "      <td>0.900673</td>\n",
       "      <td>0.457197</td>\n",
       "      <td>0</td>\n",
       "      <td>1144</td>\n",
       "      <td>0.076746</td>\n",
       "      <td>1</td>\n",
       "    </tr>\n",
       "    <tr>\n",
       "      <th>3</th>\n",
       "      <td>23</td>\n",
       "      <td>19</td>\n",
       "      <td>0.829929</td>\n",
       "      <td>0.314231</td>\n",
       "      <td>0</td>\n",
       "      <td>2078</td>\n",
       "      <td>0.143363</td>\n",
       "      <td>0</td>\n",
       "    </tr>\n",
       "    <tr>\n",
       "      <th>4</th>\n",
       "      <td>21</td>\n",
       "      <td>270</td>\n",
       "      <td>0.759396</td>\n",
       "      <td>0.134413</td>\n",
       "      <td>0</td>\n",
       "      <td>1454</td>\n",
       "      <td>0.212616</td>\n",
       "      <td>1</td>\n",
       "    </tr>\n",
       "  </tbody>\n",
       "</table>\n",
       "</div>"
      ],
      "text/plain": [
       "   LeadTime_Days  Order_Size  Supplier_Reliability  Port_Congestion  Is_Promo  \\\n",
       "0             31         682              0.789537         0.496755         1   \n",
       "1             17         911              0.846905         0.352917         1   \n",
       "2             10         699              0.900673         0.457197         0   \n",
       "3             23          19              0.829929         0.314231         0   \n",
       "4             21         270              0.759396         0.134413         0   \n",
       "\n",
       "   Distance_km  Hist_Delay_Rate  LateDelivery  \n",
       "0         1855         0.108540             1  \n",
       "1         1019         0.219739             1  \n",
       "2         1144         0.076746             1  \n",
       "3         2078         0.143363             0  \n",
       "4         1454         0.212616             1  "
      ]
     },
     "execution_count": 3,
     "metadata": {},
     "output_type": "execute_result"
    }
   ],
   "source": [
    "# 3) Create synthetic supply chain dataset\n",
    "n = 800\n",
    "lead_time_days         = np.random.randint(3, 40, size=n)\n",
    "order_size             = np.random.randint(10, 1000, size=n)\n",
    "supplier_reliability   = np.clip(np.random.normal(0.85, 0.1, size=n), 0, 1)\n",
    "port_congestion_index  = np.clip(np.random.normal(0.4, 0.2, size=n), 0, 1)\n",
    "is_promo               = np.random.binomial(1, 0.3, size=n)\n",
    "distance_km            = np.random.randint(50, 3000, size=n)\n",
    "historical_delay_rate  = np.clip(np.random.beta(2, 8, size=n), 0, 1)\n",
    "\n",
    "logit = (\n",
    "    0.04 * (lead_time_days - 15) +\n",
    "    0.0005 * (order_size - 300) +\n",
    "   -2.5 * (supplier_reliability - 0.85) +\n",
    "    1.8 * (port_congestion_index - 0.4) +\n",
    "    0.8 * (is_promo - 0.3) +\n",
    "    0.0003 * (distance_km - 800) +\n",
    "    2.0 * (historical_delay_rate - 0.2)\n",
    ")\n",
    "prob_late = 1 / (1 + np.exp(-logit))\n",
    "late = (np.random.rand(n) < prob_late).astype(int)\n",
    "\n",
    "df = pd.DataFrame({\n",
    "    \"LeadTime_Days\": lead_time_days,\n",
    "    \"Order_Size\": order_size,\n",
    "    \"Supplier_Reliability\": supplier_reliability,\n",
    "    \"Port_Congestion\": port_congestion_index,\n",
    "    \"Is_Promo\": is_promo,\n",
    "    \"Distance_km\": distance_km,\n",
    "    \"Hist_Delay_Rate\": historical_delay_rate,\n",
    "    \"LateDelivery\": late\n",
    "})\n",
    "df.head()\n"
   ]
  },
  {
   "cell_type": "code",
   "execution_count": 5,
   "id": "9e1a537e-bf90-4fd6-82e4-adf3bfbb55c2",
   "metadata": {},
   "outputs": [],
   "source": [
    "# 4) Train-test split\n",
    "features = [\"LeadTime_Days\",\"Order_Size\",\"Supplier_Reliability\",\"Port_Congestion\",\n",
    "            \"Is_Promo\",\"Distance_km\",\"Hist_Delay_Rate\"]\n",
    "X = df[features]\n",
    "y = df[\"LateDelivery\"]\n",
    "X_train, X_test, y_train, y_test = train_test_split(\n",
    "    X, y, test_size=0.25, random_state=42, stratify=y\n",
    ")\n"
   ]
  },
  {
   "cell_type": "code",
   "execution_count": 7,
   "id": "2b2760b7-91bd-4f97-8aad-4ff438609a9c",
   "metadata": {},
   "outputs": [
    {
     "name": "stdout",
     "output_type": "stream",
     "text": [
      "Classifier params: {'bootstrap': True, 'ccp_alpha': 0.0, 'class_weight': None, 'criterion': 'gini', 'max_depth': None, 'max_features': 'sqrt', 'max_leaf_nodes': None, 'max_samples': None, 'min_impurity_decrease': 0.0, 'min_samples_leaf': 1, 'min_samples_split': 2, 'min_weight_fraction_leaf': 0.0, 'monotonic_cst': None, 'n_estimators': 100, 'n_jobs': None, 'oob_score': False, 'random_state': 42, 'verbose': 0, 'warm_start': False}\n",
      "\n",
      "Regressor params: {'bootstrap': True, 'ccp_alpha': 0.0, 'criterion': 'squared_error', 'max_depth': None, 'max_features': 1.0, 'max_leaf_nodes': None, 'max_samples': None, 'min_impurity_decrease': 0.0, 'min_samples_leaf': 1, 'min_samples_split': 2, 'min_weight_fraction_leaf': 0.0, 'monotonic_cst': None, 'n_estimators': 100, 'n_jobs': None, 'oob_score': False, 'random_state': 42, 'verbose': 0, 'warm_start': False}\n"
     ]
    }
   ],
   "source": [
    "# 5) List all parameters\n",
    "rf_clf = RandomForestClassifier(random_state=42)\n",
    "print(\"Classifier params:\", rf_clf.get_params())\n",
    "\n",
    "rf_reg = RandomForestRegressor(random_state=42)\n",
    "print(\"\\nRegressor params:\", rf_reg.get_params())\n"
   ]
  },
  {
   "cell_type": "code",
   "execution_count": 9,
   "id": "59c766ba-32a3-4bf3-aa14-7047b7a4ba3d",
   "metadata": {},
   "outputs": [
    {
     "name": "stdout",
     "output_type": "stream",
     "text": [
      "OOB Score: 0.6666666666666666\n",
      "Test Accuracy: 0.635\n"
     ]
    }
   ],
   "source": [
    "# 6) Baseline model\n",
    "rf_baseline = RandomForestClassifier(\n",
    "    n_estimators=300, oob_score=True, bootstrap=True,\n",
    "    random_state=42, n_jobs=-1\n",
    ")\n",
    "rf_baseline.fit(X_train, y_train)\n",
    "print(\"OOB Score:\", rf_baseline.oob_score_)\n",
    "y_pred_base = rf_baseline.predict(X_test)\n",
    "print(\"Test Accuracy:\", accuracy_score(y_test, y_pred_base))\n"
   ]
  },
  {
   "cell_type": "code",
   "execution_count": 11,
   "id": "39cce4ff-54cc-40e7-b834-dbf1b917e33d",
   "metadata": {},
   "outputs": [
    {
     "name": "stdout",
     "output_type": "stream",
     "text": [
      "Fitting 5 folds for each of 20 candidates, totalling 100 fits\n",
      "Best params: {'bootstrap': True, 'class_weight': 'balanced', 'max_depth': 20, 'max_features': 0.5, 'min_samples_leaf': 2, 'min_samples_split': 9, 'n_estimators': 587}\n"
     ]
    }
   ],
   "source": [
    "# 7) RandomizedSearchCV optimization\n",
    "rnd_param_dist = {\n",
    "    \"n_estimators\": randint(200, 700),\n",
    "    \"max_depth\": randint(4, 30),\n",
    "    \"min_samples_split\": randint(2, 20),\n",
    "    \"min_samples_leaf\": randint(1, 15),\n",
    "    \"max_features\": [\"sqrt\", \"log2\", None, 0.5, 0.8],\n",
    "    \"bootstrap\": [True, False],\n",
    "    \"class_weight\": [None, \"balanced\", \"balanced_subsample\"],\n",
    "}\n",
    "rnd_search = RandomizedSearchCV(\n",
    "    RandomForestClassifier(random_state=42, n_jobs=-1),\n",
    "    param_distributions=rnd_param_dist,\n",
    "    n_iter=20, scoring=\"accuracy\", cv=5,\n",
    "    random_state=42, n_jobs=-1, verbose=1\n",
    ")\n",
    "rnd_search.fit(X_train, y_train)\n",
    "print(\"Best params:\", rnd_search.best_params_)\n"
   ]
  },
  {
   "cell_type": "code",
   "execution_count": 13,
   "id": "34e4e832-17b8-4ca6-8d00-904ea88e892c",
   "metadata": {},
   "outputs": [
    {
     "name": "stdout",
     "output_type": "stream",
     "text": [
      "Fitting 5 folds for each of 81 candidates, totalling 405 fits\n",
      "Best Grid params: {'bootstrap': True, 'class_weight': 'balanced', 'max_depth': 18, 'max_features': 0.5, 'min_samples_leaf': 2, 'min_samples_split': 10, 'n_estimators': 587}\n"
     ]
    }
   ],
   "source": [
    "# 8) GridSearchCV refinement\n",
    "best = rnd_search.best_params_\n",
    "grid_param = {\n",
    "    \"n_estimators\": [best[\"n_estimators\"]-100, best[\"n_estimators\"], best[\"n_estimators\"]+100],\n",
    "    \"max_depth\": [best[\"max_depth\"]-2, best[\"max_depth\"], best[\"max_depth\"]+2],\n",
    "    \"min_samples_split\": [best[\"min_samples_split\"]-1, best[\"min_samples_split\"], best[\"min_samples_split\"]+1],\n",
    "    \"min_samples_leaf\": [best[\"min_samples_leaf\"]-1, best[\"min_samples_leaf\"], best[\"min_samples_leaf\"]+1],\n",
    "    \"max_features\": [best[\"max_features\"]],\n",
    "    \"bootstrap\": [best[\"bootstrap\"]],\n",
    "    \"class_weight\": [best[\"class_weight\"]],\n",
    "}\n",
    "grid_search = GridSearchCV(\n",
    "    RandomForestClassifier(random_state=42, n_jobs=-1),\n",
    "    param_grid=grid_param, scoring=\"accuracy\", cv=5,\n",
    "    n_jobs=-1, verbose=1\n",
    ")\n",
    "grid_search.fit(X_train, y_train)\n",
    "print(\"Best Grid params:\", grid_search.best_params_)\n"
   ]
  },
  {
   "cell_type": "code",
   "execution_count": 15,
   "id": "e1d168be-6bf3-43eb-84f6-7d3c60885c81",
   "metadata": {},
   "outputs": [
    {
     "data": {
      "image/png": "[encoded data removed]",
      "text/plain": [
       "<Figure size 640x480 with 1 Axes>"
      ]
     },
     "metadata": {},
     "output_type": "display_data"
    }
   ],
   "source": [
    "# 9) Feature importance plot\n",
    "def plot_feature_importance(model, feature_names):\n",
    "    importances = model.feature_importances_\n",
    "    order = np.argsort(importances)[::-1]\n",
    "    plt.bar(range(len(importances)), importances[order])\n",
    "    plt.xticks(range(len(importances)), np.array(feature_names)[order], rotation=45, ha=\"right\")\n",
    "    plt.title(\"Feature Importance\")\n",
    "    plt.show()\n",
    "\n",
    "plot_feature_importance(grid_search.best_estimator_, features)\n"
   ]
  }
 ],
 "metadata": {
  "kernelspec": {
   "display_name": "Python 3 (ipykernel)",
   "language": "python",
   "name": "python3"
  },
  "language_info": {
   "codemirror_mode": {
    "name": "ipython",
    "version": 3
   },
   "file_extension": ".py",
   "mimetype": "text/x-python",
   "name": "python",
   "nbconvert_exporter": "python",
   "pygments_lexer": "ipython3",
   "version": "3.12.4"
  }
 },
 "nbformat": 4,
 "nbformat_minor": 5
}
