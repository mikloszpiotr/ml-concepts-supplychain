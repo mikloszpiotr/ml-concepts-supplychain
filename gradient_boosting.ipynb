{
 "cells": [
  {
   "cell_type": "code",
   "execution_count": null,
   "id": "2650e7ce-dc17-4604-8a94-51e6bc758028",
   "metadata": {},
   "outputs": [],
   "source": [
    "# %% [markdown]\n",
    "\"\"\"\n",
    "# Gradient Boosting for Supply Chain Demand Forecasting (Hands-on, Job-Interview Ready)\n",
    "\n",
    "This notebook is structured to teach gradient boosting **in code comments**. \n",
    "You'll:\n",
    "1) Generate a realistic synthetic **daily demand** dataset for multiple SKUs and DCs.\n",
    "2) Start with a simple baseline (Linear Regression).\n",
    "3) Train a **GradientBoostingRegressor** with a robust pipeline.\n",
    "4) Understand **how gradient boosting works** (stage-wise additive trees, gradients, shrinkage, subsampling).\n",
    "5) Tune key hyperparameters + evaluate on a **time-based split**.\n",
    "6) Inspect model: **feature importances, permutation importance, partial dependence**.\n",
    "7) Plot **learning curves** via staged predictions to spot over/underfitting.\n",
    "8) Do **what-if** (promo & price) scenario planning for planners.\n",
    "9) BONUS: **HistGradientBoostingRegressor** (faster, binned histograms, early stopping).\n",
    "10) End with an **interview Q&A cheat sheet** as comments.\n",
    "\n",
    "\"\"\"\n"
   ]
  },
  {
   "cell_type": "code",
   "execution_count": null,
   "id": "b9cf962d-167b-48ca-8949-92b77fb83c70",
   "metadata": {},
   "outputs": [],
   "source": [
    "# %% [markdown]\n",
    "\"\"\"\n",
    "## 0. Setup\n",
    "- If a library is missing in your environment, uncomment the `pip` cell below and run it.\n",
    "- We use only mainstream libs: numpy, pandas, scikit-learn, matplotlib.\n",
    "\"\"\"\n"
   ]
  },
  {
   "cell_type": "code",
   "execution_count": 1,
   "id": "094ef48b-0fb2-4fc8-98f4-ef4b4857fa00",
   "metadata": {},
   "outputs": [],
   "source": [
    "# %% \n",
    "# !pip install numpy pandas scikit-learn matplotlib\n",
    "import numpy as np\n",
    "import pandas as pd\n",
    "import matplotlib.pyplot as plt\n",
    "\n",
    "from sklearn.model_selection import GridSearchCV, TimeSeriesSplit\n",
    "from sklearn.compose import ColumnTransformer\n",
    "from sklearn.pipeline import Pipeline\n",
    "from sklearn.preprocessing import OneHotEncoder\n",
    "from sklearn.linear_model import LinearRegression\n",
    "from sklearn.ensemble import GradientBoostingRegressor, HistGradientBoostingRegressor\n",
    "from sklearn.metrics import mean_absolute_error, mean_squared_error\n",
    "from sklearn.inspection import permutation_importance, PartialDependenceDisplay\n",
    "\n",
    "import warnings\n",
    "warnings.filterwarnings(\"ignore\")\n",
    "\n",
    "np.random.seed(42)  # Reproducibility\n"
   ]
  },
  {
   "cell_type": "code",
   "execution_count": null,
   "id": "9c2c415a-0c89-4df6-8e3f-085b098171e1",
   "metadata": {},
   "outputs": [],
   "source": [
    "# %% [markdown]\n",
    "\"\"\"\n",
    "## 1. Create a synthetic **supply chain** dataset\n",
    "**Business story**: We forecast next-day demand for multiple SKUs shipped from multiple DCs.\n",
    "\n",
    "**Signals we simulate**:\n",
    "- Seasonality (week-of-year), day-of-week effects\n",
    "- Price & promo (with uplift and price elasticity)\n",
    "- Competitor price index\n",
    "- Rolling lags (to mimic autocorrelation)\n",
    "- Weak trend and noise\n",
    "\n",
    "\"\"\"\n"
   ]
  },
  {
   "cell_type": "code",
   "execution_count": 3,
   "id": "d68871e3-f8e6-4bbf-a843-05f80e86dd28",
   "metadata": {},
   "outputs": [
    {
     "name": "stdout",
     "output_type": "stream",
     "text": [
      "(25812, 13)\n"
     ]
    },
    {
     "data": {
      "text/html": [
       "<div>\n",
       "<style scoped>\n",
       "    .dataframe tbody tr th:only-of-type {\n",
       "        vertical-align: middle;\n",
       "    }\n",
       "\n",
       "    .dataframe tbody tr th {\n",
       "        vertical-align: top;\n",
       "    }\n",
       "\n",
       "    .dataframe thead th {\n",
       "        text-align: right;\n",
       "    }\n",
       "</style>\n",
       "<table border=\"1\" class=\"dataframe\">\n",
       "  <thead>\n",
       "    <tr style=\"text-align: right;\">\n",
       "      <th></th>\n",
       "      <th>date</th>\n",
       "      <th>sku</th>\n",
       "      <th>dc</th>\n",
       "      <th>price</th>\n",
       "      <th>promo</th>\n",
       "      <th>comp_price_index</th>\n",
       "      <th>dow</th>\n",
       "      <th>weekofyear</th>\n",
       "      <th>month</th>\n",
       "      <th>demand</th>\n",
       "      <th>lag_7</th>\n",
       "      <th>lag_14</th>\n",
       "      <th>roll7</th>\n",
       "    </tr>\n",
       "  </thead>\n",
       "  <tbody>\n",
       "    <tr>\n",
       "      <th>0</th>\n",
       "      <td>2023-01-15</td>\n",
       "      <td>SKU_01</td>\n",
       "      <td>DC_1</td>\n",
       "      <td>27.69</td>\n",
       "      <td>0</td>\n",
       "      <td>0.962</td>\n",
       "      <td>6</td>\n",
       "      <td>2</td>\n",
       "      <td>1</td>\n",
       "      <td>40.393855</td>\n",
       "      <td>46.270882</td>\n",
       "      <td>45.657268</td>\n",
       "      <td>39.936527</td>\n",
       "    </tr>\n",
       "    <tr>\n",
       "      <th>1</th>\n",
       "      <td>2023-01-16</td>\n",
       "      <td>SKU_01</td>\n",
       "      <td>DC_1</td>\n",
       "      <td>27.34</td>\n",
       "      <td>0</td>\n",
       "      <td>0.994</td>\n",
       "      <td>0</td>\n",
       "      <td>3</td>\n",
       "      <td>1</td>\n",
       "      <td>50.884322</td>\n",
       "      <td>35.020497</td>\n",
       "      <td>41.622630</td>\n",
       "      <td>39.096952</td>\n",
       "    </tr>\n",
       "    <tr>\n",
       "      <th>2</th>\n",
       "      <td>2023-01-17</td>\n",
       "      <td>SKU_01</td>\n",
       "      <td>DC_1</td>\n",
       "      <td>26.62</td>\n",
       "      <td>0</td>\n",
       "      <td>0.955</td>\n",
       "      <td>1</td>\n",
       "      <td>3</td>\n",
       "      <td>1</td>\n",
       "      <td>42.928758</td>\n",
       "      <td>44.823249</td>\n",
       "      <td>29.938006</td>\n",
       "      <td>41.363212</td>\n",
       "    </tr>\n",
       "  </tbody>\n",
       "</table>\n",
       "</div>"
      ],
      "text/plain": [
       "        date     sku    dc  price  promo  comp_price_index  dow  weekofyear  \\\n",
       "0 2023-01-15  SKU_01  DC_1  27.69      0             0.962    6           2   \n",
       "1 2023-01-16  SKU_01  DC_1  27.34      0             0.994    0           3   \n",
       "2 2023-01-17  SKU_01  DC_1  26.62      0             0.955    1           3   \n",
       "\n",
       "   month     demand      lag_7     lag_14      roll7  \n",
       "0      1  40.393855  46.270882  45.657268  39.936527  \n",
       "1      1  50.884322  35.020497  41.622630  39.096952  \n",
       "2      1  42.928758  44.823249  29.938006  41.363212  "
      ]
     },
     "execution_count": 3,
     "metadata": {},
     "output_type": "execute_result"
    }
   ],
   "source": [
    "# %%\n",
    "def make_supply_chain_data(\n",
    "    start=\"2023-01-01\", \n",
    "    end=\"2024-12-31\",\n",
    "    n_skus=12,\n",
    "    n_dcs=3,\n",
    "    promo_rate=0.15\n",
    "):\n",
    "    \"\"\"\n",
    "    Generate a realistic daily panel:\n",
    "    - rows: date × (sku, dc)\n",
    "    - Features:\n",
    "        * price: random near category baseline with SKU-specific elasticity\n",
    "        * promo: Bernoulli with rate~promo_rate\n",
    "        * comp_price_index: competitor price pressure index\n",
    "        * dow, weekofyear, month: calendar signals\n",
    "        * lags/rolling means: lag_7, lag_14, roll7\n",
    "    - Target: 'demand'\n",
    "    \n",
    "    Demand formula (transparent):\n",
    "        base = sku_base + dc_bias + seasonality + dow_effect + trend\n",
    "        price_effect = - elasticity_sku * (price - sku_price_anchor)\n",
    "        promo_effect = promo * sku_promo_uplift\n",
    "        comp_effect = -0.4 * (comp_price_index - 1.0)  # higher competitor index suppresses our demand a bit\n",
    "        noise ~ N(0, sigma)\n",
    "        demand = max(0, base + price_effect + promo_effect + comp_effect + noise)\n",
    "    \"\"\"\n",
    "    dates = pd.date_range(start, end, freq=\"D\")\n",
    "    skus = [f\"SKU_{i:02d}\" for i in range(1, n_skus+1)]\n",
    "    dcs = [f\"DC_{c}\" for c in range(1, n_dcs+1)]\n",
    "    \n",
    "    # SKU-level anchors and elasticities\n",
    "    rng = np.random.default_rng(42)\n",
    "    sku_price_anchor = {sku: rng.uniform(8, 35) for sku in skus}\n",
    "    sku_elasticity   = {sku: rng.uniform(0.2, 1.2) for sku in skus}  # higher => more sensitive to price\n",
    "    sku_promo_uplift = {sku: rng.uniform(3, 15) for sku in skus}\n",
    "    sku_base_demand  = {sku: rng.uniform(20, 120) for sku in skus}\n",
    "    dc_bias          = {dc: rng.uniform(-10, 10) for dc in dcs}\n",
    "    \n",
    "    rows = []\n",
    "    for dt in dates:\n",
    "        dow = dt.weekday()  # 0=Mon,...,6=Sun\n",
    "        weekofyear = dt.isocalendar().week\n",
    "        month = dt.month\n",
    "        # smooth yearly seasonality: peaks mid-year, lower in winter (example)\n",
    "        season = 10 * np.sin(2*np.pi*(dt.timetuple().tm_yday)/365)  \n",
    "        # mild trend: +0.01 units per day\n",
    "        trend = 0.01 * (dt - dates[0]).days\n",
    "        \n",
    "        for sku in skus:\n",
    "            for dc in dcs:\n",
    "                # promo random (could be further constrained e.g., not back-to-back)\n",
    "                promo = 1 if rng.random() < promo_rate else 0\n",
    "                # competitor index ~ around 1.0\n",
    "                comp_index = rng.normal(loc=1.0, scale=0.05)\n",
    "                # price centered near anchor ± 15%\n",
    "                price = sku_price_anchor[sku] * rng.uniform(0.85, 1.15)\n",
    "                \n",
    "                # day-of-week effect: weekends slightly higher (example: +5 Sun, +3 Sat)\n",
    "                dow_effect = {5: 3.0, 6: 5.0}.get(dow, 0.0)\n",
    "                \n",
    "                base = sku_base_demand[sku] + dc_bias[dc] + season + dow_effect + trend\n",
    "                price_effect = - sku_elasticity[sku] * (price - sku_price_anchor[sku])\n",
    "                promo_effect = promo * sku_promo_uplift[sku]\n",
    "                comp_effect  = -0.4 * (comp_index - 1.0)\n",
    "                noise = rng.normal(0, 5)\n",
    "                \n",
    "                demand = max(0, base + price_effect + promo_effect + comp_effect + noise)\n",
    "                \n",
    "                rows.append({\n",
    "                    \"date\": dt, \"sku\": sku, \"dc\": dc,\n",
    "                    \"price\": round(float(price), 2),\n",
    "                    \"promo\": promo,\n",
    "                    \"comp_price_index\": round(float(comp_index), 3),\n",
    "                    \"dow\": dow, \"weekofyear\": int(weekofyear), \"month\": month,\n",
    "                    \"demand\": float(demand)\n",
    "                })\n",
    "    \n",
    "    df = pd.DataFrame(rows).sort_values([\"sku\",\"dc\",\"date\"]).reset_index(drop=True)\n",
    "    \n",
    "    # Create lags/rolling by group without leakage (shift first, then rolling)\n",
    "    def add_lags(group):\n",
    "        group = group.sort_values(\"date\").copy()\n",
    "        group[\"lag_7\"]  = group[\"demand\"].shift(7)\n",
    "        group[\"lag_14\"] = group[\"demand\"].shift(14)\n",
    "        group[\"roll7\"]  = group[\"demand\"].shift(1).rolling(7).mean()\n",
    "        return group\n",
    "    \n",
    "    df = df.groupby([\"sku\",\"dc\"], group_keys=False).apply(add_lags)\n",
    "    \n",
    "    # Drop first 14 days per SKU/DC where lags are NaN\n",
    "    df = df.dropna().reset_index(drop=True)\n",
    "    return df\n",
    "\n",
    "df = make_supply_chain_data()\n",
    "print(df.shape)\n",
    "df.head(3)\n"
   ]
  },
  {
   "cell_type": "code",
   "execution_count": null,
   "id": "d3bdcea7-2310-455f-820b-0a1a664da2a5",
   "metadata": {},
   "outputs": [],
   "source": [
    "# %% [markdown]\n",
    "\"\"\"\n",
    "## 2. Train/Validation Split (time-based)\n",
    "We simulate a **realistic** split: train on the earlier period, test on the later period.\n",
    "This avoids look-ahead bias in time series flavored problems.\n",
    "\"\"\"\n"
   ]
  },
  {
   "cell_type": "code",
   "execution_count": 5,
   "id": "6c36d20e-1d89-4edf-92f0-a415484ed370",
   "metadata": {},
   "outputs": [
    {
     "name": "stdout",
     "output_type": "stream",
     "text": [
      "2023-01-15 00:00:00 2024-10-02 00:00:00 -> train window\n",
      "2024-10-03 00:00:00 2024-12-31 00:00:00 -> test window\n"
     ]
    }
   ],
   "source": [
    "# %%\n",
    "# Time-based split: last ~3 months as test\n",
    "cutoff_date = df[\"date\"].max() - pd.Timedelta(days=90)\n",
    "train_df = df[df[\"date\"] <= cutoff_date].copy()\n",
    "test_df  = df[df[\"date\"]  > cutoff_date].copy()\n",
    "\n",
    "features = [\"sku\",\"dc\",\"price\",\"promo\",\"comp_price_index\",\"dow\",\"weekofyear\",\"month\",\"lag_7\",\"lag_14\",\"roll7\"]\n",
    "target   = \"demand\"\n",
    "\n",
    "X_train, y_train = train_df[features], train_df[target]\n",
    "X_test,  y_test  = test_df[features],  test_df[target]\n",
    "\n",
    "cat_cols = [\"sku\",\"dc\"]\n",
    "num_cols = [c for c in features if c not in cat_cols]\n",
    "\n",
    "preprocess = ColumnTransformer(\n",
    "    transformers=[\n",
    "        (\"cat\", OneHotEncoder(handle_unknown=\"ignore\"), cat_cols),\n",
    "        (\"num\", \"passthrough\", num_cols),\n",
    "    ],\n",
    "    remainder=\"drop\",\n",
    "    verbose_feature_names_out=False\n",
    ")\n",
    "\n",
    "print(train_df[\"date\"].min(), train_df[\"date\"].max(), \"-> train window\")\n",
    "print(test_df[\"date\"].min(), test_df[\"date\"].max(), \"-> test window\")\n"
   ]
  },
  {
   "cell_type": "code",
   "execution_count": null,
   "id": "986ce209-2a39-4507-91de-b9899f9a73c9",
   "metadata": {},
   "outputs": [],
   "source": [
    "# %% [markdown]\n",
    "\"\"\"\n",
    "## 3. Baseline: Linear Regression\n",
    "Baseline sets expectations. If boosting can't beat it, something is off.\n",
    "\"\"\"\n"
   ]
  },
  {
   "cell_type": "code",
   "execution_count": 7,
   "id": "22f52af6-4cf5-45b4-8d1a-48314f64f24c",
   "metadata": {},
   "outputs": [
    {
     "data": {
      "text/plain": [
       "{'MAE': 4.754736330286139,\n",
       " 'RMSE': 5.94453330236594,\n",
       " 'MAPE%': 7.830158732540972}"
      ]
     },
     "execution_count": 7,
     "metadata": {},
     "output_type": "execute_result"
    }
   ],
   "source": [
    "# %%\n",
    "lin_reg = Pipeline([\n",
    "    (\"prep\", preprocess),\n",
    "    (\"model\", LinearRegression())\n",
    "])\n",
    "\n",
    "lin_reg.fit(X_train, y_train)\n",
    "pred_lr = lin_reg.predict(X_test)\n",
    "\n",
    "def mape(y_true, y_pred, eps=1e-6):\n",
    "    \"\"\"\n",
    "    Mean Absolute Percentage Error with protection against zero target.\n",
    "    \"\"\"\n",
    "    y_true = np.asarray(y_true)\n",
    "    y_pred = np.asarray(y_pred)\n",
    "    mask = y_true > eps\n",
    "    return np.mean(np.abs((y_true[mask] - y_pred[mask]) / y_true[mask])) * 100\n",
    "\n",
    "metrics_lr = {\n",
    "    \"MAE\": mean_absolute_error(y_test, pred_lr),\n",
    "    \"RMSE\": mean_squared_error(y_test, pred_lr, squared=False),\n",
    "    \"MAPE%\": mape(y_test, pred_lr)\n",
    "}\n",
    "metrics_lr\n"
   ]
  },
  {
   "cell_type": "code",
   "execution_count": null,
   "id": "27aefec0-ce39-411c-a9d0-00811565a856",
   "metadata": {},
   "outputs": [],
   "source": [
    "# %% [markdown]\n",
    "r\"\"\"\n",
    "## 4. Gradient Boosting: **How it works** (conceptual in code comments)\n",
    "\n",
    "**Boosting = Additive modeling of weak learners (small trees) to reduce bias:**\n",
    "- Initialize with a constant prediction (e.g., mean of y).\n",
    "- For t in 1..T:\n",
    "  1) Compute **residuals** (for squared loss) or **negative gradients** (for general losses).\n",
    "  2) Fit a small decision tree to those residuals/gradients (this is the \"weak learner\").\n",
    "  3) Update the model: F_t(x) = F_{t-1}(x) + learning_rate * tree_t(x)\n",
    "- **Learning rate (shrinkage)** scales each step to avoid overfitting. Lower LR -> need more trees, but often better generalization.\n",
    "- **Max depth / leaf size** controls tree complexity (too big -> overfit).\n",
    "- **Subsample < 1.0** introduces randomness (Stochastic Gradient Boosting) -> reduces variance.\n",
    "- **n_estimators** is the number of boosting stages (trees). More trees with low LR is common.\n",
    "\n",
    "We’ll train:\n",
    "- `GradientBoostingRegressor` (classic, exact splits).\n",
    "- Key params we’ll demo:\n",
    "  * n_estimators (stages)\n",
    "  * learning_rate (shrinkage)\n",
    "  * max_depth (tree depth via `max_depth` inside base learners = `max_depth` in scikit's GBDT)\n",
    "  * subsample (for stochastic GB)\n",
    "  * min_samples_leaf (regularization)\n",
    "\"\"\"\n"
   ]
  },
  {
   "cell_type": "code",
   "execution_count": 9,
   "id": "b92db611-63a8-44c8-a1dd-d6442666054a",
   "metadata": {},
   "outputs": [
    {
     "data": {
      "text/plain": [
       "({'MAE': 4.754736330286139,\n",
       "  'RMSE': 5.94453330236594,\n",
       "  'MAPE%': 7.830158732540972},\n",
       " {'MAE': 4.410677895601626,\n",
       "  'RMSE': 5.487090620062895,\n",
       "  'MAPE%': 7.392904418430758})"
      ]
     },
     "execution_count": 9,
     "metadata": {},
     "output_type": "execute_result"
    }
   ],
   "source": [
    "# %%\n",
    "gbr = Pipeline([\n",
    "    (\"prep\", preprocess),\n",
    "    (\"model\", GradientBoostingRegressor(\n",
    "        loss=\"squared_error\",   # default squared loss; could use 'absolute_error' or 'huber' for robustness\n",
    "        n_estimators=300,       # number of trees (stages)\n",
    "        learning_rate=0.05,     # shrinkage; lower -> more trees\n",
    "        max_depth=3,            # depth of individual regression trees (controls complexity)\n",
    "        subsample=0.8,          # stochastic GB: fit each stage on a random subsample -> reduces variance\n",
    "        min_samples_leaf=20,    # prevents tiny leaves -> better generalization\n",
    "        random_state=42\n",
    "    ))\n",
    "])\n",
    "\n",
    "gbr.fit(X_train, y_train)\n",
    "pred_gbr = gbr.predict(X_test)\n",
    "\n",
    "metrics_gbr = {\n",
    "    \"MAE\": mean_absolute_error(y_test, pred_gbr),\n",
    "    \"RMSE\": mean_squared_error(y_test, pred_gbr, squared=False),\n",
    "    \"MAPE%\": mape(y_test, pred_gbr)\n",
    "}\n",
    "metrics_lr, metrics_gbr\n"
   ]
  },
  {
   "cell_type": "code",
   "execution_count": null,
   "id": "7a9605ae-6d9f-4138-a9a1-09a8e5886989",
   "metadata": {},
   "outputs": [],
   "source": [
    "# %% [markdown]\n",
    "\"\"\"\n",
    "## 5. Hyperparameter Tuning (TimeSeriesSplit)\n",
    "Small grid to keep runtime friendly. Use **TimeSeriesSplit** to respect temporal order.\n",
    "\"\"\"\n"
   ]
  },
  {
   "cell_type": "code",
   "execution_count": 11,
   "id": "8d6b7fb3-d474-4541-bc64-1cfd0486d73c",
   "metadata": {},
   "outputs": [
    {
     "data": {
      "text/plain": [
       "({'model__learning_rate': 0.03,\n",
       "  'model__max_depth': 3,\n",
       "  'model__min_samples_leaf': 10,\n",
       "  'model__n_estimators': 200,\n",
       "  'model__subsample': 0.7},\n",
       " 7.439480169282225)"
      ]
     },
     "execution_count": 11,
     "metadata": {},
     "output_type": "execute_result"
    }
   ],
   "source": [
    "# %%\n",
    "tscv = TimeSeriesSplit(n_splits=4)\n",
    "\n",
    "param_grid = {\n",
    "    \"model__n_estimators\": [200, 300],\n",
    "    \"model__learning_rate\": [0.03, 0.05],\n",
    "    \"model__max_depth\": [2, 3],\n",
    "    \"model__subsample\": [0.7, 0.9],\n",
    "    \"model__min_samples_leaf\": [10, 20]\n",
    "}\n",
    "\n",
    "grid = GridSearchCV(\n",
    "    estimator=Pipeline([(\"prep\", preprocess),\n",
    "                        (\"model\", GradientBoostingRegressor(random_state=42))]),\n",
    "    param_grid=param_grid,\n",
    "    cv=tscv,\n",
    "    scoring=\"neg_root_mean_squared_error\",\n",
    "    n_jobs=-1,\n",
    "    verbose=0\n",
    ")\n",
    "\n",
    "grid.fit(X_train, y_train)\n",
    "grid.best_params_, -grid.best_score_\n"
   ]
  },
  {
   "cell_type": "code",
   "execution_count": 18,
   "id": "752a2a7d-635a-4362-93b9-7e71799eb1f1",
   "metadata": {},
   "outputs": [
    {
     "data": {
      "text/plain": [
       "({'MAE': 4.410677895601626,\n",
       "  'RMSE': 5.487090620062895,\n",
       "  'MAPE%': 7.392904418430758},\n",
       " {'MAE': 4.547513144694511,\n",
       "  'RMSE': 5.679111678114337,\n",
       "  'MAPE%': 7.677220317705021})"
      ]
     },
     "execution_count": 18,
     "metadata": {},
     "output_type": "execute_result"
    }
   ],
   "source": [
    "# %%\n",
    "best_gbr = grid.best_estimator_\n",
    "pred_best = best_gbr.predict(X_test)\n",
    "metrics_best = {\n",
    "    \"MAE\": mean_absolute_error(y_test, pred_best),\n",
    "    \"RMSE\": mean_squared_error(y_test, pred_best, squared=False),\n",
    "    \"MAPE%\": mape(y_test, pred_best)\n",
    "}\n",
    "metrics_gbr, metrics_best\n"
   ]
  },
  {
   "cell_type": "code",
   "execution_count": null,
   "id": "03622d54-ad70-4e56-a5c2-4028fbd82898",
   "metadata": {},
   "outputs": [],
   "source": [
    "# %% [markdown]\n",
    "\"\"\"\n",
    "## 7. Partial Dependence Plots (PDP)\n",
    "PDP shows the **marginal effect** of a feature on prediction, averaging other features.\n",
    "\n",
    "We’ll inspect:\n",
    "- price (elasticity)\n",
    "- promo (uplift)\n",
    "- weekofyear (seasonality)\n",
    "\"\"\"\n"
   ]
  },
  {
   "cell_type": "code",
   "execution_count": 22,
   "id": "482c8c27-6082-42d0-9b78-5255374a826d",
   "metadata": {},
   "outputs": [
    {
     "data": {
      "text/plain": [
       "<Figure size 400x300 with 0 Axes>"
      ]
     },
     "metadata": {},
     "output_type": "display_data"
    },
    {
     "data": {
      "image/png": "[encoded data removed]",
      "text/plain": [
       "<Figure size 640x480 with 2 Axes>"
      ]
     },
     "metadata": {},
     "output_type": "display_data"
    },
    {
     "data": {
      "text/plain": [
       "<Figure size 400x300 with 0 Axes>"
      ]
     },
     "metadata": {},
     "output_type": "display_data"
    },
    {
     "data": {
      "image/png": "[encoded data removed]",
      "text/plain": [
       "<Figure size 640x480 with 2 Axes>"
      ]
     },
     "metadata": {},
     "output_type": "display_data"
    },
    {
     "data": {
      "text/plain": [
       "<Figure size 400x300 with 0 Axes>"
      ]
     },
     "metadata": {},
     "output_type": "display_data"
    },
    {
     "data": {
      "image/png": "[encoded data removed]",
      "text/plain": [
       "<Figure size 640x480 with 2 Axes>"
      ]
     },
     "metadata": {},
     "output_type": "display_data"
    }
   ],
   "source": [
    "# %%\n",
    "fig1 = plt.figure(figsize=(4,3))\n",
    "PartialDependenceDisplay.from_estimator(best_gbr, X_test, [\"price\"])\n",
    "plt.title(\"PDP: price\")\n",
    "plt.show()\n",
    "\n",
    "fig2 = plt.figure(figsize=(4,3))\n",
    "PartialDependenceDisplay.from_estimator(best_gbr, X_test, [\"promo\"])\n",
    "plt.title(\"PDP: promo\")\n",
    "plt.show()\n",
    "\n",
    "fig3 = plt.figure(figsize=(4,3))\n",
    "PartialDependenceDisplay.from_estimator(best_gbr, X_test, [\"weekofyear\"])\n",
    "plt.title(\"PDP: weekofyear (seasonality)\")\n",
    "plt.show()\n"
   ]
  },
  {
   "cell_type": "code",
   "execution_count": null,
   "id": "2fd9512d-03d9-40e4-ab77-c65c2928bea6",
   "metadata": {},
   "outputs": [],
   "source": [
    "# %% [markdown]\n",
    "\"\"\"\n",
    "## 8. Learning Curves via Staged Predictions\n",
    "We use `staged_predict` to compute test RMSE at each boosting stage to see:\n",
    "- Underfitting (too few trees)\n",
    "- Sweet spot (best generalization)\n",
    "- Overfitting (too many trees)\n",
    "\"\"\"\n"
   ]
  },
  {
   "cell_type": "code",
   "execution_count": 24,
   "id": "8f0b9982-11c2-4271-88f0-251d12dde6e5",
   "metadata": {},
   "outputs": [
    {
     "data": {
      "image/png": "[encoded data removed]",
      "text/plain": [
       "<Figure size 500x300 with 1 Axes>"
      ]
     },
     "metadata": {},
     "output_type": "display_data"
    },
    {
     "data": {
      "text/plain": [
       "(5.449009392807679, 499)"
      ]
     },
     "execution_count": 24,
     "metadata": {},
     "output_type": "execute_result"
    }
   ],
   "source": [
    "# %%\n",
    "# Refit a GBDT without pipeline just to access staged_predict easily on transformed data\n",
    "X_train_t = preprocess.fit_transform(X_train)\n",
    "X_test_t  = preprocess.transform(X_test)\n",
    "\n",
    "plain_gbr = GradientBoostingRegressor(\n",
    "    n_estimators=500,\n",
    "    learning_rate=0.05,\n",
    "    max_depth=3,\n",
    "    subsample=0.8,\n",
    "    min_samples_leaf=20,\n",
    "    random_state=42\n",
    ")\n",
    "plain_gbr.fit(X_train_t, y_train)\n",
    "\n",
    "train_rmse, test_rmse = [], []\n",
    "for y_tr_pred in plain_gbr.staged_predict(X_train_t):\n",
    "    train_rmse.append(mean_squared_error(y_train, y_tr_pred, squared=False))\n",
    "\n",
    "for y_te_pred in plain_gbr.staged_predict(X_test_t):\n",
    "    test_rmse.append(mean_squared_error(y_test, y_te_pred, squared=False))\n",
    "\n",
    "plt.figure(figsize=(5,3))\n",
    "plt.plot(train_rmse, label=\"Train RMSE\")\n",
    "plt.plot(test_rmse, label=\"Test RMSE\")\n",
    "plt.xlabel(\"Number of Trees\")\n",
    "plt.ylabel(\"RMSE\")\n",
    "plt.title(\"Learning Curve via Boosting Stages\")\n",
    "plt.legend()\n",
    "plt.show()\n",
    "\n",
    "best_stage = int(np.argmin(test_rmse))\n",
    "float(np.min(test_rmse)), best_stage\n"
   ]
  },
  {
   "cell_type": "code",
   "execution_count": null,
   "id": "14d075fe-16e6-47d3-b493-95e12cf7394f",
   "metadata": {},
   "outputs": [],
   "source": [
    "# %% [markdown]\n",
    "\"\"\"\n",
    "## 9. Scenario Planning: what-if (promo & price)\n",
    "Planners ask: *\"If we promote SKU_03 next week at DC_1 and drop price by 10%, what's the demand uplift?\"*\n",
    "\n",
    "We pick rows for a specific SKU/DC in the **first test week**, and compare predictions with two scenarios.\n",
    "\"\"\"\n"
   ]
  },
  {
   "cell_type": "code",
   "execution_count": 26,
   "id": "1c0e8b04-5544-48f9-bae8-3fbbf1a00adf",
   "metadata": {},
   "outputs": [
    {
     "name": "stdout",
     "output_type": "stream",
     "text": [
      "Scenario window: 2024-10-03 to 2024-10-09 for SKU_03 @ DC_1\n"
     ]
    },
    {
     "data": {
      "text/html": [
       "<div>\n",
       "<style scoped>\n",
       "    .dataframe tbody tr th:only-of-type {\n",
       "        vertical-align: middle;\n",
       "    }\n",
       "\n",
       "    .dataframe tbody tr th {\n",
       "        vertical-align: top;\n",
       "    }\n",
       "\n",
       "    .dataframe thead th {\n",
       "        text-align: right;\n",
       "    }\n",
       "</style>\n",
       "<table border=\"1\" class=\"dataframe\">\n",
       "  <thead>\n",
       "    <tr style=\"text-align: right;\">\n",
       "      <th></th>\n",
       "      <th>date</th>\n",
       "      <th>sku</th>\n",
       "      <th>dc</th>\n",
       "      <th>base_pred</th>\n",
       "      <th>promo_only</th>\n",
       "      <th>promo_price_drop</th>\n",
       "      <th>uplift_A</th>\n",
       "      <th>uplift_B</th>\n",
       "    </tr>\n",
       "  </thead>\n",
       "  <tbody>\n",
       "    <tr>\n",
       "      <th>0</th>\n",
       "      <td>2024-10-03</td>\n",
       "      <td>SKU_03</td>\n",
       "      <td>DC_1</td>\n",
       "      <td>45.08</td>\n",
       "      <td>52.01</td>\n",
       "      <td>53.52</td>\n",
       "      <td>6.93</td>\n",
       "      <td>8.44</td>\n",
       "    </tr>\n",
       "    <tr>\n",
       "      <th>1</th>\n",
       "      <td>2024-10-04</td>\n",
       "      <td>SKU_03</td>\n",
       "      <td>DC_1</td>\n",
       "      <td>43.33</td>\n",
       "      <td>50.45</td>\n",
       "      <td>50.91</td>\n",
       "      <td>7.11</td>\n",
       "      <td>7.58</td>\n",
       "    </tr>\n",
       "    <tr>\n",
       "      <th>2</th>\n",
       "      <td>2024-10-05</td>\n",
       "      <td>SKU_03</td>\n",
       "      <td>DC_1</td>\n",
       "      <td>45.10</td>\n",
       "      <td>53.01</td>\n",
       "      <td>53.01</td>\n",
       "      <td>7.91</td>\n",
       "      <td>7.91</td>\n",
       "    </tr>\n",
       "    <tr>\n",
       "      <th>3</th>\n",
       "      <td>2024-10-06</td>\n",
       "      <td>SKU_03</td>\n",
       "      <td>DC_1</td>\n",
       "      <td>52.87</td>\n",
       "      <td>52.87</td>\n",
       "      <td>53.86</td>\n",
       "      <td>0.00</td>\n",
       "      <td>0.99</td>\n",
       "    </tr>\n",
       "    <tr>\n",
       "      <th>4</th>\n",
       "      <td>2024-10-07</td>\n",
       "      <td>SKU_03</td>\n",
       "      <td>DC_1</td>\n",
       "      <td>41.28</td>\n",
       "      <td>48.81</td>\n",
       "      <td>50.94</td>\n",
       "      <td>7.53</td>\n",
       "      <td>9.66</td>\n",
       "    </tr>\n",
       "    <tr>\n",
       "      <th>5</th>\n",
       "      <td>2024-10-08</td>\n",
       "      <td>SKU_03</td>\n",
       "      <td>DC_1</td>\n",
       "      <td>44.32</td>\n",
       "      <td>52.37</td>\n",
       "      <td>52.37</td>\n",
       "      <td>8.05</td>\n",
       "      <td>8.05</td>\n",
       "    </tr>\n",
       "    <tr>\n",
       "      <th>6</th>\n",
       "      <td>2024-10-09</td>\n",
       "      <td>SKU_03</td>\n",
       "      <td>DC_1</td>\n",
       "      <td>41.75</td>\n",
       "      <td>49.50</td>\n",
       "      <td>50.53</td>\n",
       "      <td>7.74</td>\n",
       "      <td>8.78</td>\n",
       "    </tr>\n",
       "  </tbody>\n",
       "</table>\n",
       "</div>"
      ],
      "text/plain": [
       "        date     sku    dc  base_pred  promo_only  promo_price_drop  uplift_A  \\\n",
       "0 2024-10-03  SKU_03  DC_1      45.08       52.01             53.52      6.93   \n",
       "1 2024-10-04  SKU_03  DC_1      43.33       50.45             50.91      7.11   \n",
       "2 2024-10-05  SKU_03  DC_1      45.10       53.01             53.01      7.91   \n",
       "3 2024-10-06  SKU_03  DC_1      52.87       52.87             53.86      0.00   \n",
       "4 2024-10-07  SKU_03  DC_1      41.28       48.81             50.94      7.53   \n",
       "5 2024-10-08  SKU_03  DC_1      44.32       52.37             52.37      8.05   \n",
       "6 2024-10-09  SKU_03  DC_1      41.75       49.50             50.53      7.74   \n",
       "\n",
       "   uplift_B  \n",
       "0      8.44  \n",
       "1      7.58  \n",
       "2      7.91  \n",
       "3      0.99  \n",
       "4      9.66  \n",
       "5      8.05  \n",
       "6      8.78  "
      ]
     },
     "execution_count": 26,
     "metadata": {},
     "output_type": "execute_result"
    }
   ],
   "source": [
    "# %%\n",
    "# pick a scenario window\n",
    "focus_sku = \"SKU_03\"\n",
    "focus_dc  = \"DC_1\"\n",
    "week_start = test_df[\"date\"].min()\n",
    "week_end   = week_start + pd.Timedelta(days=6)\n",
    "\n",
    "scenario_rows = test_df[\n",
    "    (test_df[\"sku\"]==focus_sku) &\n",
    "    (test_df[\"dc\"]==focus_dc) &\n",
    "    (test_df[\"date\"].between(week_start, week_end))\n",
    "].copy()\n",
    "\n",
    "base_pred = best_gbr.predict(scenario_rows[features])\n",
    "\n",
    "# Scenario A: add promo\n",
    "scnA = scenario_rows.copy()\n",
    "scnA[\"promo\"] = 1\n",
    "pred_A = best_gbr.predict(scnA[features])\n",
    "\n",
    "# Scenario B: promo + 10% price drop\n",
    "scnB = scnA.copy()\n",
    "scnB[\"price\"] = scnB[\"price\"] * 0.90\n",
    "pred_B = best_gbr.predict(scnB[features])\n",
    "\n",
    "scn_out = pd.DataFrame({\n",
    "    \"date\": scenario_rows[\"date\"].values,\n",
    "    \"sku\": focus_sku,\n",
    "    \"dc\": focus_dc,\n",
    "    \"base_pred\": base_pred,\n",
    "    \"promo_only\": pred_A,\n",
    "    \"promo_price_drop\": pred_B,\n",
    "    \"uplift_A\": pred_A - base_pred,\n",
    "    \"uplift_B\": pred_B - base_pred\n",
    "})\n",
    "\n",
    "print(f\"Scenario window: {week_start.date()} to {week_end.date()} for {focus_sku} @ {focus_dc}\")\n",
    "scn_out.round(2)\n"
   ]
  },
  {
   "cell_type": "code",
   "execution_count": null,
   "id": "4a414795-4699-4aed-8c7b-c0c7d247c45b",
   "metadata": {},
   "outputs": [],
   "source": [
    "# %% [markdown]\n",
    "\"\"\"\n",
    "## 10. BONUS: HistGradientBoosting (fast, modern)\n",
    "Key differences vs classic GBDT:\n",
    "- **Histogram-based** binning -> very fast on large datasets.\n",
    "- **Monotonic constraints** support, early stopping, missing value handling.\n",
    "- Fewer knobs (no OneHot needed for pure numerical features; we still need encoding for categorical).\n",
    "\"\"\"\n"
   ]
  },
  {
   "cell_type": "code",
   "execution_count": 28,
   "id": "9a3f93e5-8119-4845-bfb1-870fa47e967b",
   "metadata": {},
   "outputs": [
    {
     "data": {
      "text/plain": [
       "({'MAE': 4.547513144694511,\n",
       "  'RMSE': 5.679111678114337,\n",
       "  'MAPE%': 7.677220317705021},\n",
       " {'MAE': 4.415360223197394,\n",
       "  'RMSE': 5.499103605857278,\n",
       "  'MAPE%': 7.392613238186644})"
      ]
     },
     "execution_count": 28,
     "metadata": {},
     "output_type": "execute_result"
    }
   ],
   "source": [
    "# %%\n",
    "# For a quick demo we reuse the OHE pipeline (categoricals stay encoded).\n",
    "hgb = Pipeline([\n",
    "    (\"prep\", preprocess),\n",
    "    (\"model\", HistGradientBoostingRegressor(\n",
    "        learning_rate=0.05,\n",
    "        max_depth=6,            # depth is max # of splits from root (None means unlimited)\n",
    "        max_iter=300,           # analogous to n_estimators\n",
    "        early_stopping=True,\n",
    "        validation_fraction=0.1,\n",
    "        random_state=42\n",
    "    ))\n",
    "])\n",
    "\n",
    "hgb.fit(X_train, y_train)\n",
    "pred_hgb = hgb.predict(X_test)\n",
    "\n",
    "metrics_hgb = {\n",
    "    \"MAE\": mean_absolute_error(y_test, pred_hgb),\n",
    "    \"RMSE\": mean_squared_error(y_test, pred_hgb, squared=False),\n",
    "    \"MAPE%\": mape(y_test, pred_hgb)\n",
    "}\n",
    "metrics_best, metrics_hgb\n"
   ]
  },
  {
   "cell_type": "code",
   "execution_count": null,
   "id": "9cce9af0-933d-447b-ba48-f6705b74be07",
   "metadata": {},
   "outputs": [],
   "source": [
    "# %% [markdown]\n",
    "r\"\"\"\n",
    "## 11. Practical Guidance & Interview Notes (keep as comments in your repo)\n",
    "\n",
    "### When to use Gradient Boosting?\n",
    "- Nonlinear relationships, tabular features, mixed feature types, medium-sized datasets.\n",
    "- Strong default for structured data when interpretability > deep nets and accuracy > linear models.\n",
    "\n",
    "### Key hyperparameters (mental model):\n",
    "- `learning_rate`: smaller = safer, needs more trees (`n_estimators`).\n",
    "- `n_estimators` / `max_iter`: more trees = lower bias until overfit; tune with validation.\n",
    "- `max_depth` / `min_samples_leaf`: controls tree complexity (regularization).\n",
    "- `subsample` (<1.0): stochastic GB; reduces variance (like Random Forest flavor).\n",
    "- **Trade-off**: Lower LR + more trees often yields best generalization.\n",
    "\n",
    "### Strengths:\n",
    "- High accuracy on tabular data; handles complex interactions automatically.\n",
    "- Works well with limited feature scaling; robust to feature monotonicity.\n",
    "- Partial dependence, permutation importance enable explainability.\n",
    "\n",
    "### Weaknesses:\n",
    "- Slower to train than single tree; careful tuning needed.\n",
    "- Can overfit with too-deep trees or too-high learning rate.\n",
    "- Not ideal for extremely large, high-dimensional sparse data (consider linear/SGD or tree libs like LightGBM/XGBoost).\n",
    "\n",
    "### Common interview Qs (short answers):\n",
    "Q: *How does gradient boosting differ from random forests?*  \n",
    "A: GB is **sequential** (each tree fits residuals/gradients of previous trees), RF is **parallel** (bagged trees). GB reduces **bias** stage-wise; RF reduces **variance** by averaging decorrelated trees.\n",
    "\n",
    "Q: *What is the role of learning_rate?*  \n",
    "A: Shrinkage factor for each stage’s contribution; **smaller LR** improves generalization but requires **more trees**.\n",
    "\n",
    "Q: *How to fight overfitting in GB?*  \n",
    "A: Lower `max_depth`, increase `min_samples_leaf`, use `subsample<1.0`, reduce `learning_rate`, early stopping (HistGB), monitor validation loss.\n",
    "\n",
    "Q: *Why time-based split for forecasting?*  \n",
    "A: Prevents leakage; future cannot inform past. Use `TimeSeriesSplit` or a chronological cutoff.\n",
    "\n",
    "Q: *Permutation importance vs impurity importance?*  \n",
    "A: Permutation is model-agnostic, less biased for high-cardinality features; impurity is fast but can be biased.\n",
    "\n",
    "Q: *What do PDPs show?*  \n",
    "A: Average marginal effect of a feature on predictions, holding others averaged out (beware correlated features).\n",
    "\n",
    "Q: *Price elasticity & promo uplift in forecast?*  \n",
    "A: GB captures them via nonlinear splits; use PDP or scenario inference to quantify expected uplift.\n",
    "\n",
    "— End —\n",
    "\"\"\"\n"
   ]
  },
  {
   "cell_type": "code",
   "execution_count": null,
   "id": "3a3b101d-ab75-48d2-874e-7842142eb4a9",
   "metadata": {},
   "outputs": [],
   "source": []
  }
 ],
 "metadata": {
  "kernelspec": {
   "display_name": "Python 3 (ipykernel)",
   "language": "python",
   "name": "python3"
  },
  "language_info": {
   "codemirror_mode": {
    "name": "ipython",
    "version": 3
   },
   "file_extension": ".py",
   "mimetype": "text/x-python",
   "name": "python",
   "nbconvert_exporter": "python",
   "pygments_lexer": "ipython3",
   "version": "3.12.4"
  }
 },
 "nbformat": 4,
 "nbformat_minor": 5
}
